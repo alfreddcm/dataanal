{
 "cells": [
  {
   "cell_type": "code",
   "execution_count": 29,
   "metadata": {
    "_cell_guid": "b1076dfc-b9ad-4769-8c92-a6c4dae69d19",
    "_uuid": "8f2839f25d086af736a60e9eeb907d3b93b6e0e5",
    "execution": {
     "iopub.execute_input": "2024-01-11T11:48:36.448896Z",
     "iopub.status.busy": "2024-01-11T11:48:36.448261Z",
     "iopub.status.idle": "2024-01-11T11:48:36.899473Z",
     "shell.execute_reply": "2024-01-11T11:48:36.898397Z",
     "shell.execute_reply.started": "2024-01-11T11:48:36.448862Z"
    }
   },
   "outputs": [],
   "source": [
    "import numpy as np # linear algebra\n",
    "import pandas as pd # data processing,\n",
    "from statsmodels.tsa.stattools import adfuller\n",
    "from statsmodels.tsa.arima.model import ARIMA\n",
    "import matplotlib.pyplot as plt\n",
    "%matplotlib inline\n",
    "import seaborn as sns\n"
   ]
  },
  {
   "cell_type": "code",
   "execution_count": 2,
   "metadata": {
    "execution": {
     "iopub.execute_input": "2024-01-11T11:48:36.901937Z",
     "iopub.status.busy": "2024-01-11T11:48:36.901499Z",
     "iopub.status.idle": "2024-01-11T11:48:38.842413Z",
     "shell.execute_reply": "2024-01-11T11:48:38.841094Z",
     "shell.execute_reply.started": "2024-01-11T11:48:36.901906Z"
    }
   },
   "outputs": [
    {
     "name": "stderr",
     "output_type": "stream",
     "text": [
      "/var/folders/gb/1hpzb2cs5zv7rm95tkw7jfj00000gp/T/ipykernel_6865/1627489464.py:1: DtypeWarning: Columns (23) have mixed types. Specify dtype option on import or set low_memory=False.\n",
      "  data=pd.read_csv(\"/Users/ped/Downloads/archive/Amazon Sale Report.csv\")\n"
     ]
    }
   ],
   "source": [
    "data=pd.read_csv(\"/Users/ped/Downloads/archive/Amazon Sale Report.csv\")"
   ]
  },
  {
   "cell_type": "code",
   "execution_count": 3,
   "metadata": {
    "execution": {
     "iopub.execute_input": "2024-01-11T11:48:57.607975Z",
     "iopub.status.busy": "2024-01-11T11:48:57.607006Z",
     "iopub.status.idle": "2024-01-11T11:48:57.616013Z",
     "shell.execute_reply": "2024-01-11T11:48:57.614890Z",
     "shell.execute_reply.started": "2024-01-11T11:48:57.607922Z"
    }
   },
   "outputs": [
    {
     "data": {
      "text/plain": [
       "Index(['index', 'Order ID', 'Date', 'Status', 'Fulfilment', 'Sales Channel ',\n",
       "       'ship-service-level', 'Style', 'SKU', 'Category', 'Size', 'ASIN',\n",
       "       'Courier Status', 'Qty', 'currency', 'Amount', 'ship-city',\n",
       "       'ship-state', 'ship-postal-code', 'ship-country', 'promotion-ids',\n",
       "       'B2B', 'fulfilled-by', 'Unnamed: 22'],\n",
       "      dtype='object')"
      ]
     },
     "execution_count": 3,
     "metadata": {},
     "output_type": "execute_result"
    }
   ],
   "source": [
    "data.columns"
   ]
  },
  {
   "cell_type": "code",
   "execution_count": 4,
   "metadata": {
    "execution": {
     "iopub.execute_input": "2024-01-11T11:49:00.160238Z",
     "iopub.status.busy": "2024-01-11T11:49:00.159226Z",
     "iopub.status.idle": "2024-01-11T11:49:00.166511Z",
     "shell.execute_reply": "2024-01-11T11:49:00.165438Z",
     "shell.execute_reply.started": "2024-01-11T11:49:00.160196Z"
    }
   },
   "outputs": [
    {
     "data": {
      "text/plain": [
       "(128975, 24)"
      ]
     },
     "execution_count": 4,
     "metadata": {},
     "output_type": "execute_result"
    }
   ],
   "source": [
    "data.shape"
   ]
  },
  {
   "cell_type": "code",
   "execution_count": 5,
   "metadata": {
    "execution": {
     "iopub.execute_input": "2024-01-11T11:49:00.686625Z",
     "iopub.status.busy": "2024-01-11T11:49:00.686201Z",
     "iopub.status.idle": "2024-01-11T11:49:00.947152Z",
     "shell.execute_reply": "2024-01-11T11:49:00.946251Z",
     "shell.execute_reply.started": "2024-01-11T11:49:00.686587Z"
    }
   },
   "outputs": [
    {
     "name": "stdout",
     "output_type": "stream",
     "text": [
      "<class 'pandas.core.frame.DataFrame'>\n",
      "RangeIndex: 128975 entries, 0 to 128974\n",
      "Data columns (total 24 columns):\n",
      " #   Column              Non-Null Count   Dtype  \n",
      "---  ------              --------------   -----  \n",
      " 0   index               128975 non-null  int64  \n",
      " 1   Order ID            128975 non-null  object \n",
      " 2   Date                128975 non-null  object \n",
      " 3   Status              128975 non-null  object \n",
      " 4   Fulfilment          128975 non-null  object \n",
      " 5   Sales Channel       128975 non-null  object \n",
      " 6   ship-service-level  128975 non-null  object \n",
      " 7   Style               128975 non-null  object \n",
      " 8   SKU                 128975 non-null  object \n",
      " 9   Category            128975 non-null  object \n",
      " 10  Size                128975 non-null  object \n",
      " 11  ASIN                128975 non-null  object \n",
      " 12  Courier Status      122103 non-null  object \n",
      " 13  Qty                 128975 non-null  int64  \n",
      " 14  currency            121180 non-null  object \n",
      " 15  Amount              121180 non-null  float64\n",
      " 16  ship-city           128942 non-null  object \n",
      " 17  ship-state          128942 non-null  object \n",
      " 18  ship-postal-code    128942 non-null  float64\n",
      " 19  ship-country        128942 non-null  object \n",
      " 20  promotion-ids       79822 non-null   object \n",
      " 21  B2B                 128975 non-null  bool   \n",
      " 22  fulfilled-by        39277 non-null   object \n",
      " 23  Unnamed: 22         79925 non-null   object \n",
      "dtypes: bool(1), float64(2), int64(2), object(19)\n",
      "memory usage: 22.8+ MB\n"
     ]
    }
   ],
   "source": [
    "data.info()"
   ]
  },
  {
   "cell_type": "code",
   "execution_count": 6,
   "metadata": {
    "execution": {
     "iopub.execute_input": "2024-01-11T11:49:03.996018Z",
     "iopub.status.busy": "2024-01-11T11:49:03.995639Z",
     "iopub.status.idle": "2024-01-11T11:49:04.040151Z",
     "shell.execute_reply": "2024-01-11T11:49:04.039073Z",
     "shell.execute_reply.started": "2024-01-11T11:49:03.995974Z"
    }
   },
   "outputs": [
    {
     "data": {
      "text/html": [
       "<div>\n",
       "<style scoped>\n",
       "    .dataframe tbody tr th:only-of-type {\n",
       "        vertical-align: middle;\n",
       "    }\n",
       "\n",
       "    .dataframe tbody tr th {\n",
       "        vertical-align: top;\n",
       "    }\n",
       "\n",
       "    .dataframe thead th {\n",
       "        text-align: right;\n",
       "    }\n",
       "</style>\n",
       "<table border=\"1\" class=\"dataframe\">\n",
       "  <thead>\n",
       "    <tr style=\"text-align: right;\">\n",
       "      <th></th>\n",
       "      <th>index</th>\n",
       "      <th>Qty</th>\n",
       "      <th>Amount</th>\n",
       "      <th>ship-postal-code</th>\n",
       "    </tr>\n",
       "  </thead>\n",
       "  <tbody>\n",
       "    <tr>\n",
       "      <th>count</th>\n",
       "      <td>128975.000000</td>\n",
       "      <td>128975.000000</td>\n",
       "      <td>121180.000000</td>\n",
       "      <td>128942.000000</td>\n",
       "    </tr>\n",
       "    <tr>\n",
       "      <th>mean</th>\n",
       "      <td>64487.000000</td>\n",
       "      <td>0.904431</td>\n",
       "      <td>648.561465</td>\n",
       "      <td>463966.236509</td>\n",
       "    </tr>\n",
       "    <tr>\n",
       "      <th>std</th>\n",
       "      <td>37232.019822</td>\n",
       "      <td>0.313354</td>\n",
       "      <td>281.211687</td>\n",
       "      <td>191476.764941</td>\n",
       "    </tr>\n",
       "    <tr>\n",
       "      <th>min</th>\n",
       "      <td>0.000000</td>\n",
       "      <td>0.000000</td>\n",
       "      <td>0.000000</td>\n",
       "      <td>110001.000000</td>\n",
       "    </tr>\n",
       "    <tr>\n",
       "      <th>25%</th>\n",
       "      <td>32243.500000</td>\n",
       "      <td>1.000000</td>\n",
       "      <td>449.000000</td>\n",
       "      <td>382421.000000</td>\n",
       "    </tr>\n",
       "    <tr>\n",
       "      <th>50%</th>\n",
       "      <td>64487.000000</td>\n",
       "      <td>1.000000</td>\n",
       "      <td>605.000000</td>\n",
       "      <td>500033.000000</td>\n",
       "    </tr>\n",
       "    <tr>\n",
       "      <th>75%</th>\n",
       "      <td>96730.500000</td>\n",
       "      <td>1.000000</td>\n",
       "      <td>788.000000</td>\n",
       "      <td>600024.000000</td>\n",
       "    </tr>\n",
       "    <tr>\n",
       "      <th>max</th>\n",
       "      <td>128974.000000</td>\n",
       "      <td>15.000000</td>\n",
       "      <td>5584.000000</td>\n",
       "      <td>989898.000000</td>\n",
       "    </tr>\n",
       "  </tbody>\n",
       "</table>\n",
       "</div>"
      ],
      "text/plain": [
       "               index            Qty         Amount  ship-postal-code\n",
       "count  128975.000000  128975.000000  121180.000000     128942.000000\n",
       "mean    64487.000000       0.904431     648.561465     463966.236509\n",
       "std     37232.019822       0.313354     281.211687     191476.764941\n",
       "min         0.000000       0.000000       0.000000     110001.000000\n",
       "25%     32243.500000       1.000000     449.000000     382421.000000\n",
       "50%     64487.000000       1.000000     605.000000     500033.000000\n",
       "75%     96730.500000       1.000000     788.000000     600024.000000\n",
       "max    128974.000000      15.000000    5584.000000     989898.000000"
      ]
     },
     "execution_count": 6,
     "metadata": {},
     "output_type": "execute_result"
    }
   ],
   "source": [
    "data.describe()"
   ]
  },
  {
   "cell_type": "code",
   "execution_count": 7,
   "metadata": {
    "execution": {
     "iopub.execute_input": "2024-01-11T11:49:07.249679Z",
     "iopub.status.busy": "2024-01-11T11:49:07.249247Z",
     "iopub.status.idle": "2024-01-11T11:49:07.547823Z",
     "shell.execute_reply": "2024-01-11T11:49:07.546780Z",
     "shell.execute_reply.started": "2024-01-11T11:49:07.249642Z"
    }
   },
   "outputs": [
    {
     "data": {
      "text/html": [
       "<div>\n",
       "<style scoped>\n",
       "    .dataframe tbody tr th:only-of-type {\n",
       "        vertical-align: middle;\n",
       "    }\n",
       "\n",
       "    .dataframe tbody tr th {\n",
       "        vertical-align: top;\n",
       "    }\n",
       "\n",
       "    .dataframe thead th {\n",
       "        text-align: right;\n",
       "    }\n",
       "</style>\n",
       "<table border=\"1\" class=\"dataframe\">\n",
       "  <thead>\n",
       "    <tr style=\"text-align: right;\">\n",
       "      <th></th>\n",
       "      <th>Count of unique values</th>\n",
       "    </tr>\n",
       "  </thead>\n",
       "  <tbody>\n",
       "    <tr>\n",
       "      <th>index</th>\n",
       "      <td>128975</td>\n",
       "    </tr>\n",
       "    <tr>\n",
       "      <th>Order ID</th>\n",
       "      <td>120378</td>\n",
       "    </tr>\n",
       "    <tr>\n",
       "      <th>Date</th>\n",
       "      <td>91</td>\n",
       "    </tr>\n",
       "    <tr>\n",
       "      <th>Status</th>\n",
       "      <td>13</td>\n",
       "    </tr>\n",
       "    <tr>\n",
       "      <th>Fulfilment</th>\n",
       "      <td>2</td>\n",
       "    </tr>\n",
       "    <tr>\n",
       "      <th>Sales Channel</th>\n",
       "      <td>2</td>\n",
       "    </tr>\n",
       "    <tr>\n",
       "      <th>ship-service-level</th>\n",
       "      <td>2</td>\n",
       "    </tr>\n",
       "    <tr>\n",
       "      <th>Style</th>\n",
       "      <td>1377</td>\n",
       "    </tr>\n",
       "    <tr>\n",
       "      <th>SKU</th>\n",
       "      <td>7195</td>\n",
       "    </tr>\n",
       "    <tr>\n",
       "      <th>Category</th>\n",
       "      <td>9</td>\n",
       "    </tr>\n",
       "    <tr>\n",
       "      <th>Size</th>\n",
       "      <td>11</td>\n",
       "    </tr>\n",
       "    <tr>\n",
       "      <th>ASIN</th>\n",
       "      <td>7190</td>\n",
       "    </tr>\n",
       "    <tr>\n",
       "      <th>Courier Status</th>\n",
       "      <td>3</td>\n",
       "    </tr>\n",
       "    <tr>\n",
       "      <th>Qty</th>\n",
       "      <td>10</td>\n",
       "    </tr>\n",
       "    <tr>\n",
       "      <th>currency</th>\n",
       "      <td>1</td>\n",
       "    </tr>\n",
       "    <tr>\n",
       "      <th>Amount</th>\n",
       "      <td>1410</td>\n",
       "    </tr>\n",
       "    <tr>\n",
       "      <th>ship-city</th>\n",
       "      <td>8955</td>\n",
       "    </tr>\n",
       "    <tr>\n",
       "      <th>ship-state</th>\n",
       "      <td>69</td>\n",
       "    </tr>\n",
       "    <tr>\n",
       "      <th>ship-postal-code</th>\n",
       "      <td>9459</td>\n",
       "    </tr>\n",
       "    <tr>\n",
       "      <th>ship-country</th>\n",
       "      <td>1</td>\n",
       "    </tr>\n",
       "    <tr>\n",
       "      <th>promotion-ids</th>\n",
       "      <td>5787</td>\n",
       "    </tr>\n",
       "    <tr>\n",
       "      <th>B2B</th>\n",
       "      <td>2</td>\n",
       "    </tr>\n",
       "    <tr>\n",
       "      <th>fulfilled-by</th>\n",
       "      <td>1</td>\n",
       "    </tr>\n",
       "    <tr>\n",
       "      <th>Unnamed: 22</th>\n",
       "      <td>1</td>\n",
       "    </tr>\n",
       "  </tbody>\n",
       "</table>\n",
       "</div>"
      ],
      "text/plain": [
       "                    Count of unique values\n",
       "index                               128975\n",
       "Order ID                            120378\n",
       "Date                                    91\n",
       "Status                                  13\n",
       "Fulfilment                               2\n",
       "Sales Channel                            2\n",
       "ship-service-level                       2\n",
       "Style                                 1377\n",
       "SKU                                   7195\n",
       "Category                                 9\n",
       "Size                                    11\n",
       "ASIN                                  7190\n",
       "Courier Status                           3\n",
       "Qty                                     10\n",
       "currency                                 1\n",
       "Amount                                1410\n",
       "ship-city                             8955\n",
       "ship-state                              69\n",
       "ship-postal-code                      9459\n",
       "ship-country                             1\n",
       "promotion-ids                         5787\n",
       "B2B                                      2\n",
       "fulfilled-by                             1\n",
       "Unnamed: 22                              1"
      ]
     },
     "execution_count": 7,
     "metadata": {},
     "output_type": "execute_result"
    }
   ],
   "source": [
    "data.nunique().to_frame(name='Count of unique values')"
   ]
  },
  {
   "cell_type": "code",
   "execution_count": 8,
   "metadata": {
    "execution": {
     "iopub.execute_input": "2024-01-11T11:49:12.823761Z",
     "iopub.status.busy": "2024-01-11T11:49:12.823378Z",
     "iopub.status.idle": "2024-01-11T11:49:13.114769Z",
     "shell.execute_reply": "2024-01-11T11:49:13.113806Z",
     "shell.execute_reply.started": "2024-01-11T11:49:12.823728Z"
    }
   },
   "outputs": [
    {
     "data": {
      "text/html": [
       "<div>\n",
       "<style scoped>\n",
       "    .dataframe tbody tr th:only-of-type {\n",
       "        vertical-align: middle;\n",
       "    }\n",
       "\n",
       "    .dataframe tbody tr th {\n",
       "        vertical-align: top;\n",
       "    }\n",
       "\n",
       "    .dataframe thead th {\n",
       "        text-align: right;\n",
       "    }\n",
       "</style>\n",
       "<table border=\"1\" class=\"dataframe\">\n",
       "  <thead>\n",
       "    <tr style=\"text-align: right;\">\n",
       "      <th></th>\n",
       "      <th>Unique Values</th>\n",
       "    </tr>\n",
       "  </thead>\n",
       "  <tbody>\n",
       "    <tr>\n",
       "      <th>index</th>\n",
       "      <td>[0, 1, 2, 3, 4, 5, 6, 7, 8, 9, 10, 11, 12, 13,...</td>\n",
       "    </tr>\n",
       "    <tr>\n",
       "      <th>Order ID</th>\n",
       "      <td>[405-8078784-5731545, 171-9198151-1101146, 404...</td>\n",
       "    </tr>\n",
       "    <tr>\n",
       "      <th>Date</th>\n",
       "      <td>[04-30-22, 04-29-22, 04-28-22, 04-27-22, 04-26...</td>\n",
       "    </tr>\n",
       "    <tr>\n",
       "      <th>Status</th>\n",
       "      <td>[Cancelled, Shipped - Delivered to Buyer, Ship...</td>\n",
       "    </tr>\n",
       "    <tr>\n",
       "      <th>Fulfilment</th>\n",
       "      <td>[Merchant, Amazon]</td>\n",
       "    </tr>\n",
       "    <tr>\n",
       "      <th>Sales Channel</th>\n",
       "      <td>[Amazon.in, Non-Amazon]</td>\n",
       "    </tr>\n",
       "    <tr>\n",
       "      <th>ship-service-level</th>\n",
       "      <td>[Standard, Expedited]</td>\n",
       "    </tr>\n",
       "    <tr>\n",
       "      <th>Style</th>\n",
       "      <td>[SET389, JNE3781, JNE3371, J0341, JNE3671, SET...</td>\n",
       "    </tr>\n",
       "    <tr>\n",
       "      <th>SKU</th>\n",
       "      <td>[SET389-KR-NP-S, JNE3781-KR-XXXL, JNE3371-KR-X...</td>\n",
       "    </tr>\n",
       "    <tr>\n",
       "      <th>Category</th>\n",
       "      <td>[Set, kurta, Western Dress, Top, Ethnic Dress,...</td>\n",
       "    </tr>\n",
       "    <tr>\n",
       "      <th>Size</th>\n",
       "      <td>[S, 3XL, XL, L, XXL, XS, 6XL, M, 4XL, 5XL, Free]</td>\n",
       "    </tr>\n",
       "    <tr>\n",
       "      <th>ASIN</th>\n",
       "      <td>[B09KXVBD7Z, B09K3WFS32, B07WV4JV4D, B099NRCT7...</td>\n",
       "    </tr>\n",
       "    <tr>\n",
       "      <th>Courier Status</th>\n",
       "      <td>[nan, Shipped, Cancelled, Unshipped]</td>\n",
       "    </tr>\n",
       "    <tr>\n",
       "      <th>Qty</th>\n",
       "      <td>[0, 1, 2, 15, 3, 9, 13, 5, 4, 8]</td>\n",
       "    </tr>\n",
       "    <tr>\n",
       "      <th>currency</th>\n",
       "      <td>[INR, nan]</td>\n",
       "    </tr>\n",
       "    <tr>\n",
       "      <th>Amount</th>\n",
       "      <td>[647.62, 406.0, 329.0, 753.33, 574.0, 824.0, 6...</td>\n",
       "    </tr>\n",
       "    <tr>\n",
       "      <th>ship-city</th>\n",
       "      <td>[MUMBAI, BENGALURU, NAVI MUMBAI, PUDUCHERRY, C...</td>\n",
       "    </tr>\n",
       "    <tr>\n",
       "      <th>ship-state</th>\n",
       "      <td>[MAHARASHTRA, KARNATAKA, PUDUCHERRY, TAMIL NAD...</td>\n",
       "    </tr>\n",
       "    <tr>\n",
       "      <th>ship-postal-code</th>\n",
       "      <td>[400081.0, 560085.0, 410210.0, 605008.0, 60007...</td>\n",
       "    </tr>\n",
       "    <tr>\n",
       "      <th>ship-country</th>\n",
       "      <td>[IN, nan]</td>\n",
       "    </tr>\n",
       "    <tr>\n",
       "      <th>promotion-ids</th>\n",
       "      <td>[nan, Amazon PLCC Free-Financing Universal Mer...</td>\n",
       "    </tr>\n",
       "    <tr>\n",
       "      <th>B2B</th>\n",
       "      <td>[False, True]</td>\n",
       "    </tr>\n",
       "    <tr>\n",
       "      <th>fulfilled-by</th>\n",
       "      <td>[Easy Ship, nan]</td>\n",
       "    </tr>\n",
       "    <tr>\n",
       "      <th>Unnamed: 22</th>\n",
       "      <td>[nan, False]</td>\n",
       "    </tr>\n",
       "  </tbody>\n",
       "</table>\n",
       "</div>"
      ],
      "text/plain": [
       "                                                        Unique Values\n",
       "index               [0, 1, 2, 3, 4, 5, 6, 7, 8, 9, 10, 11, 12, 13,...\n",
       "Order ID            [405-8078784-5731545, 171-9198151-1101146, 404...\n",
       "Date                [04-30-22, 04-29-22, 04-28-22, 04-27-22, 04-26...\n",
       "Status              [Cancelled, Shipped - Delivered to Buyer, Ship...\n",
       "Fulfilment                                         [Merchant, Amazon]\n",
       "Sales Channel                                 [Amazon.in, Non-Amazon]\n",
       "ship-service-level                              [Standard, Expedited]\n",
       "Style               [SET389, JNE3781, JNE3371, J0341, JNE3671, SET...\n",
       "SKU                 [SET389-KR-NP-S, JNE3781-KR-XXXL, JNE3371-KR-X...\n",
       "Category            [Set, kurta, Western Dress, Top, Ethnic Dress,...\n",
       "Size                 [S, 3XL, XL, L, XXL, XS, 6XL, M, 4XL, 5XL, Free]\n",
       "ASIN                [B09KXVBD7Z, B09K3WFS32, B07WV4JV4D, B099NRCT7...\n",
       "Courier Status                   [nan, Shipped, Cancelled, Unshipped]\n",
       "Qty                                  [0, 1, 2, 15, 3, 9, 13, 5, 4, 8]\n",
       "currency                                                   [INR, nan]\n",
       "Amount              [647.62, 406.0, 329.0, 753.33, 574.0, 824.0, 6...\n",
       "ship-city           [MUMBAI, BENGALURU, NAVI MUMBAI, PUDUCHERRY, C...\n",
       "ship-state          [MAHARASHTRA, KARNATAKA, PUDUCHERRY, TAMIL NAD...\n",
       "ship-postal-code    [400081.0, 560085.0, 410210.0, 605008.0, 60007...\n",
       "ship-country                                                [IN, nan]\n",
       "promotion-ids       [nan, Amazon PLCC Free-Financing Universal Mer...\n",
       "B2B                                                     [False, True]\n",
       "fulfilled-by                                         [Easy Ship, nan]\n",
       "Unnamed: 22                                              [nan, False]"
      ]
     },
     "execution_count": 8,
     "metadata": {},
     "output_type": "execute_result"
    }
   ],
   "source": [
    "data.apply(pd.unique).to_frame(name='Unique Values')"
   ]
  },
  {
   "cell_type": "markdown",
   "metadata": {
    "execution": {
     "iopub.execute_input": "2024-01-11T11:49:16.380889Z",
     "iopub.status.busy": "2024-01-11T11:49:16.380018Z",
     "iopub.status.idle": "2024-01-11T11:49:17.464210Z",
     "shell.execute_reply": "2024-01-11T11:49:17.463401Z",
     "shell.execute_reply.started": "2024-01-11T11:49:16.380836Z"
    }
   },
   "source": [
    "import seaborn as sns\n",
    "import matplotlib.pyplot as plt\n",
    "numeric_cols = data.select_dtypes(include=['int64', 'float64'])\n",
    "corr_matrix = numeric_cols.corr()\n",
    "plt.figure(figsize=(12, 10))\n",
    "sns.heatmap(corr_matrix, annot=True, cmap='coolwarm', fmt=\".2f\", linewidths=.5)\n",
    "plt.title('Correlation Heatmap', fontsize=16)\n",
    "plt.xticks(rotation=45, ha='right', fontsize=12)\n",
    "plt.yticks(fontsize=12)\n",
    "plt.show()"
   ]
  },
  {
   "cell_type": "code",
   "execution_count": 9,
   "metadata": {
    "execution": {
     "iopub.execute_input": "2024-01-11T11:49:31.662782Z",
     "iopub.status.busy": "2024-01-11T11:49:31.662169Z",
     "iopub.status.idle": "2024-01-11T11:49:31.906798Z",
     "shell.execute_reply": "2024-01-11T11:49:31.905749Z",
     "shell.execute_reply.started": "2024-01-11T11:49:31.662747Z"
    }
   },
   "outputs": [
    {
     "data": {
      "text/plain": [
       "index                     0\n",
       "Order ID                  0\n",
       "Date                      0\n",
       "Status                    0\n",
       "Fulfilment                0\n",
       "Sales Channel             0\n",
       "ship-service-level        0\n",
       "Style                     0\n",
       "SKU                       0\n",
       "Category                  0\n",
       "Size                      0\n",
       "ASIN                      0\n",
       "Courier Status         6872\n",
       "Qty                       0\n",
       "currency               7795\n",
       "Amount                 7795\n",
       "ship-city                33\n",
       "ship-state               33\n",
       "ship-postal-code         33\n",
       "ship-country             33\n",
       "promotion-ids         49153\n",
       "B2B                       0\n",
       "fulfilled-by          89698\n",
       "Unnamed: 22           49050\n",
       "dtype: int64"
      ]
     },
     "execution_count": 9,
     "metadata": {},
     "output_type": "execute_result"
    }
   ],
   "source": [
    "data.isnull().sum()"
   ]
  },
  {
   "cell_type": "code",
   "execution_count": 10,
   "metadata": {
    "execution": {
     "iopub.execute_input": "2024-01-11T11:49:33.236965Z",
     "iopub.status.busy": "2024-01-11T11:49:33.236587Z",
     "iopub.status.idle": "2024-01-11T11:49:33.256694Z",
     "shell.execute_reply": "2024-01-11T11:49:33.255767Z",
     "shell.execute_reply.started": "2024-01-11T11:49:33.236937Z"
    }
   },
   "outputs": [],
   "source": [
    "\n",
    "data.drop(columns=['index', 'Unnamed: 22', 'fulfilled-by', 'ship-country', 'currency', 'Sales Channel ', 'promotion-ids', 'ship-postal-code', 'ship-state', 'ship-city', 'Courier Status', 'Fulfilment', 'ship-service-level', 'Style', 'SKU', 'Category', 'Size', 'ASIN', 'Qty', 'B2B'], inplace=True)\n"
   ]
  },
  {
   "cell_type": "code",
   "execution_count": 11,
   "metadata": {
    "execution": {
     "iopub.execute_input": "2024-01-11T11:49:34.709081Z",
     "iopub.status.busy": "2024-01-11T11:49:34.708688Z",
     "iopub.status.idle": "2024-01-11T11:49:34.856862Z",
     "shell.execute_reply": "2024-01-11T11:49:34.855563Z",
     "shell.execute_reply.started": "2024-01-11T11:49:34.709046Z"
    }
   },
   "outputs": [
    {
     "data": {
      "text/plain": [
       "Order ID       0\n",
       "Date           0\n",
       "Status         0\n",
       "Amount      7795\n",
       "dtype: int64"
      ]
     },
     "execution_count": 11,
     "metadata": {},
     "output_type": "execute_result"
    }
   ],
   "source": [
    "data.isnull().sum()"
   ]
  },
  {
   "cell_type": "code",
   "execution_count": 12,
   "metadata": {
    "execution": {
     "iopub.execute_input": "2024-01-11T11:49:42.214286Z",
     "iopub.status.busy": "2024-01-11T11:49:42.213873Z",
     "iopub.status.idle": "2024-01-11T11:49:42.220525Z",
     "shell.execute_reply": "2024-01-11T11:49:42.219143Z",
     "shell.execute_reply.started": "2024-01-11T11:49:42.214253Z"
    }
   },
   "outputs": [],
   "source": [
    "data['Amount'].fillna(0, inplace = True)"
   ]
  },
  {
   "cell_type": "code",
   "execution_count": 13,
   "metadata": {
    "execution": {
     "iopub.execute_input": "2024-01-11T11:49:42.752793Z",
     "iopub.status.busy": "2024-01-11T11:49:42.751777Z",
     "iopub.status.idle": "2024-01-11T11:49:42.889997Z",
     "shell.execute_reply": "2024-01-11T11:49:42.889148Z",
     "shell.execute_reply.started": "2024-01-11T11:49:42.752753Z"
    }
   },
   "outputs": [
    {
     "data": {
      "text/plain": [
       "Order ID    0\n",
       "Date        0\n",
       "Status      0\n",
       "Amount      0\n",
       "dtype: int64"
      ]
     },
     "execution_count": 13,
     "metadata": {},
     "output_type": "execute_result"
    }
   ],
   "source": [
    "data.isnull().sum()"
   ]
  },
  {
   "cell_type": "code",
   "execution_count": 14,
   "metadata": {
    "execution": {
     "iopub.execute_input": "2024-01-11T11:49:46.824345Z",
     "iopub.status.busy": "2024-01-11T11:49:46.823165Z",
     "iopub.status.idle": "2024-01-11T11:49:46.999052Z",
     "shell.execute_reply": "2024-01-11T11:49:46.997902Z",
     "shell.execute_reply.started": "2024-01-11T11:49:46.824293Z"
    }
   },
   "outputs": [
    {
     "data": {
      "text/plain": [
       "1460"
      ]
     },
     "execution_count": 14,
     "metadata": {},
     "output_type": "execute_result"
    }
   ],
   "source": [
    "data.duplicated().sum()"
   ]
  },
  {
   "cell_type": "code",
   "execution_count": 15,
   "metadata": {
    "execution": {
     "iopub.execute_input": "2024-01-11T11:49:50.385216Z",
     "iopub.status.busy": "2024-01-11T11:49:50.384681Z",
     "iopub.status.idle": "2024-01-11T11:49:50.556243Z",
     "shell.execute_reply": "2024-01-11T11:49:50.555141Z",
     "shell.execute_reply.started": "2024-01-11T11:49:50.385171Z"
    }
   },
   "outputs": [
    {
     "data": {
      "text/plain": [
       "0"
      ]
     },
     "execution_count": 15,
     "metadata": {},
     "output_type": "execute_result"
    }
   ],
   "source": [
    "data.drop_duplicates(inplace = True)\n",
    "data.duplicated().sum()"
   ]
  },
  {
   "cell_type": "code",
   "execution_count": 19,
   "metadata": {
    "execution": {
     "iopub.execute_input": "2024-01-11T11:49:51.486105Z",
     "iopub.status.busy": "2024-01-11T11:49:51.485733Z",
     "iopub.status.idle": "2024-01-11T11:49:51.553782Z",
     "shell.execute_reply": "2024-01-11T11:49:51.552715Z",
     "shell.execute_reply.started": "2024-01-11T11:49:51.486073Z"
    }
   },
   "outputs": [],
   "source": [
    "# Convert INR to USD using an exchange rate of 1 INR = 0.014 USD\n",
    "exchange_rate = 0.0120988\n",
    "data['Amount '] = data['Amount'].apply(lambda x: x * exchange_rate)"
   ]
  },
  {
   "cell_type": "code",
   "execution_count": 20,
   "metadata": {
    "execution": {
     "iopub.execute_input": "2024-01-11T11:49:59.332536Z",
     "iopub.status.busy": "2024-01-11T11:49:59.331904Z",
     "iopub.status.idle": "2024-01-11T11:49:59.351306Z",
     "shell.execute_reply": "2024-01-11T11:49:59.350226Z",
     "shell.execute_reply.started": "2024-01-11T11:49:59.332502Z"
    }
   },
   "outputs": [
    {
     "data": {
      "text/html": [
       "<div>\n",
       "<style scoped>\n",
       "    .dataframe tbody tr th:only-of-type {\n",
       "        vertical-align: middle;\n",
       "    }\n",
       "\n",
       "    .dataframe tbody tr th {\n",
       "        vertical-align: top;\n",
       "    }\n",
       "\n",
       "    .dataframe thead th {\n",
       "        text-align: right;\n",
       "    }\n",
       "</style>\n",
       "<table border=\"1\" class=\"dataframe\">\n",
       "  <thead>\n",
       "    <tr style=\"text-align: right;\">\n",
       "      <th></th>\n",
       "      <th>Order ID</th>\n",
       "      <th>Date</th>\n",
       "      <th>Status</th>\n",
       "      <th>Amount</th>\n",
       "      <th>Amount</th>\n",
       "    </tr>\n",
       "  </thead>\n",
       "  <tbody>\n",
       "    <tr>\n",
       "      <th>128970</th>\n",
       "      <td>406-6001380-7673107</td>\n",
       "      <td>05-31-22</td>\n",
       "      <td>Shipped</td>\n",
       "      <td>517.0</td>\n",
       "      <td>6.255080</td>\n",
       "    </tr>\n",
       "    <tr>\n",
       "      <th>128971</th>\n",
       "      <td>402-9551604-7544318</td>\n",
       "      <td>05-31-22</td>\n",
       "      <td>Shipped</td>\n",
       "      <td>999.0</td>\n",
       "      <td>12.086701</td>\n",
       "    </tr>\n",
       "    <tr>\n",
       "      <th>128972</th>\n",
       "      <td>407-9547469-3152358</td>\n",
       "      <td>05-31-22</td>\n",
       "      <td>Shipped</td>\n",
       "      <td>690.0</td>\n",
       "      <td>8.348172</td>\n",
       "    </tr>\n",
       "    <tr>\n",
       "      <th>128973</th>\n",
       "      <td>402-6184140-0545956</td>\n",
       "      <td>05-31-22</td>\n",
       "      <td>Shipped</td>\n",
       "      <td>1199.0</td>\n",
       "      <td>14.506461</td>\n",
       "    </tr>\n",
       "    <tr>\n",
       "      <th>128974</th>\n",
       "      <td>408-7436540-8728312</td>\n",
       "      <td>05-31-22</td>\n",
       "      <td>Shipped</td>\n",
       "      <td>696.0</td>\n",
       "      <td>8.420765</td>\n",
       "    </tr>\n",
       "  </tbody>\n",
       "</table>\n",
       "</div>"
      ],
      "text/plain": [
       "                   Order ID      Date   Status  Amount    Amount \n",
       "128970  406-6001380-7673107  05-31-22  Shipped   517.0   6.255080\n",
       "128971  402-9551604-7544318  05-31-22  Shipped   999.0  12.086701\n",
       "128972  407-9547469-3152358  05-31-22  Shipped   690.0   8.348172\n",
       "128973  402-6184140-0545956  05-31-22  Shipped  1199.0  14.506461\n",
       "128974  408-7436540-8728312  05-31-22  Shipped   696.0   8.420765"
      ]
     },
     "execution_count": 20,
     "metadata": {},
     "output_type": "execute_result"
    }
   ],
   "source": [
    "data = data[data['Status'].isin(['Shipped', 'Shipped - Delivered to Buyer'])]\n",
    "data.tail()"
   ]
  },
  {
   "cell_type": "code",
   "execution_count": 21,
   "metadata": {
    "execution": {
     "iopub.execute_input": "2024-01-11T11:51:01.385723Z",
     "iopub.status.busy": "2024-01-11T11:51:01.385330Z",
     "iopub.status.idle": "2024-01-11T11:51:01.407027Z",
     "shell.execute_reply": "2024-01-11T11:51:01.405851Z",
     "shell.execute_reply.started": "2024-01-11T11:51:01.385692Z"
    }
   },
   "outputs": [
    {
     "data": {
      "text/plain": [
       "array([4, 3, 5, 6], dtype=int32)"
      ]
     },
     "execution_count": 21,
     "metadata": {},
     "output_type": "execute_result"
    }
   ],
   "source": [
    "data['Date'] = pd.to_datetime(data['Date'], format='%m-%d-%y')\n",
    "data['month'] = data['Date'].dt.month\n",
    "data['month'].unique()"
   ]
  },
  {
   "cell_type": "code",
   "execution_count": 22,
   "metadata": {
    "execution": {
     "iopub.execute_input": "2024-01-11T11:51:03.448422Z",
     "iopub.status.busy": "2024-01-11T11:51:03.448018Z",
     "iopub.status.idle": "2024-01-11T11:51:03.487295Z",
     "shell.execute_reply": "2024-01-11T11:51:03.486119Z",
     "shell.execute_reply.started": "2024-01-11T11:51:03.448389Z"
    }
   },
   "outputs": [],
   "source": [
    "#changing months to numerical to be use in graph\n",
    "months = ['march','April', 'May', 'June']\n",
    "data['month'].replace([3,4,5,6],months, inplace = True)"
   ]
  },
  {
   "cell_type": "code",
   "execution_count": 23,
   "metadata": {
    "execution": {
     "iopub.execute_input": "2024-01-11T11:51:06.553906Z",
     "iopub.status.busy": "2024-01-11T11:51:06.553523Z",
     "iopub.status.idle": "2024-01-11T11:51:06.561634Z",
     "shell.execute_reply": "2024-01-11T11:51:06.560854Z",
     "shell.execute_reply.started": "2024-01-11T11:51:06.553874Z"
    }
   },
   "outputs": [
    {
     "name": "stdout",
     "output_type": "stream",
     "text": [
      "The earliest date is 2022-03-31 00:00:00\n",
      "The latest date is 2022-06-29 00:00:00\n"
     ]
    }
   ],
   "source": [
    "print(f'The earliest date is {data[\"Date\"].min()}')\n",
    "print(f'The latest date is {data[\"Date\"].max()}')"
   ]
  },
  {
   "cell_type": "code",
   "execution_count": 32,
   "metadata": {
    "execution": {
     "iopub.execute_input": "2024-01-11T11:54:21.705220Z",
     "iopub.status.busy": "2024-01-11T11:54:21.704634Z",
     "iopub.status.idle": "2024-01-11T11:54:22.005098Z",
     "shell.execute_reply": "2024-01-11T11:54:22.003973Z",
     "shell.execute_reply.started": "2024-01-11T11:54:21.705185Z"
    }
   },
   "outputs": [
    {
     "data": {
      "image/png": "[encoded data removed]",
      "text/plain": [
       "<Figure size 1000x600 with 1 Axes>"
      ]
     },
     "metadata": {},
     "output_type": "display_data"
    }
   ],
   "source": [
    "# 2. Monthly Sales Distribution (Line Plot)\n",
    "monthly_sales = data.groupby('month')['Amount'].sum()\n",
    "plt.figure(figsize=(10, 6))\n",
    "plt.plot(monthly_sales.index, monthly_sales.values, marker='o', linestyle='-')\n",
    "plt.title('Monthly Sales Distribution')\n",
    "plt.xlabel('Month')\n",
    "plt.ylabel('Total Sales')\n",
    "plt.grid(True)\n",
    "plt.show()\n"
   ]
  },
  {
   "cell_type": "code",
   "execution_count": 35,
   "metadata": {},
   "outputs": [],
   "source": [
    "months = ['March', 'April', 'May', 'June']\n",
    "data['month'].replace([3, 4, 5, 6], months, inplace=True)\n",
    "data.set_index('month', inplace=True)\n",
    "\n",
    "# Create a time series 'ts' using 'Amount' as values and 'month' as index\n",
    "ts = pd.Series(data['Amount'].values, index=data.index)"
   ]
  },
  {
   "cell_type": "code",
   "execution_count": 36,
   "metadata": {},
   "outputs": [
    {
     "name": "stdout",
     "output_type": "stream",
     "text": [
      "Results of Dickey-Fuller Test:\n",
      "Test Statistic                    -35.811655\n",
      "p-value                             0.000000\n",
      "#Lags Used                         61.000000\n",
      "Number of Observations Used    105522.000000\n",
      "Critical Value (1%)                -3.430412\n",
      "Critical Value (5%)                -2.861567\n",
      "Critical Value (10%)               -2.566785\n",
      "dtype: float64\n"
     ]
    }
   ],
   "source": [
    "# Define Augmented Dickey-Fuller (ADF) test function\n",
    "def adf_test(timeseries):\n",
    "    print(\"Results of Dickey-Fuller Test:\")\n",
    "    dftest = adfuller(timeseries, autolag=\"AIC\")\n",
    "    dfoutput = pd.Series(\n",
    "        dftest[0:4],\n",
    "        index=[\n",
    "            \"Test Statistic\",\n",
    "            \"p-value\",\n",
    "            \"#Lags Used\",\n",
    "            \"Number of Observations Used\",\n",
    "        ],\n",
    "    )\n",
    "    for key, value in dftest[4].items():\n",
    "        dfoutput[\"Critical Value (%s)\" % key] = value\n",
    "    print(dfoutput)\n",
    "\n",
    "# Apply the ADF test to your time series data\n",
    "adf_test(ts)\n"
   ]
  },
  {
   "cell_type": "code",
   "execution_count": 37,
   "metadata": {},
   "outputs": [
    {
     "name": "stdout",
     "output_type": "stream",
     "text": [
      "Results of Dickey-Fuller Test:\n",
      "Test Statistic                    -66.946312\n",
      "p-value                             0.000000\n",
      "#Lags Used                         69.000000\n",
      "Number of Observations Used    105513.000000\n",
      "Critical Value (1%)                -3.430412\n",
      "Critical Value (5%)                -2.861567\n",
      "Critical Value (10%)               -2.566785\n",
      "dtype: float64\n",
      "Results of Dickey-Fuller Test:\n",
      "Test Statistic                    -66.946312\n",
      "p-value                             0.000000\n",
      "#Lags Used                         69.000000\n",
      "Number of Observations Used    105513.000000\n",
      "Critical Value (1%)                -3.430412\n",
      "Critical Value (5%)                -2.861567\n",
      "Critical Value (10%)               -2.566785\n",
      "dtype: float64\n"
     ]
    }
   ],
   "source": [
    "# Difference the data\n",
    "diff = np.diff(ts)\n",
    "# Create a pandas series object from the differenced time-series data\n",
    "diff_ts = pd.Series(diff, index=ts.index[:-1])\n",
    "# Test the difference data for stationarity\n",
    "adf_test(diff_ts)"
   ]
  },
  {
   "cell_type": "code",
   "execution_count": 54,
   "metadata": {},
   "outputs": [
    {
     "data": {
      "image/png": "[encoded data removed]",
      "text/plain": [
       "<Figure size 1000x600 with 1 Axes>"
      ]
     },
     "metadata": {},
     "output_type": "display_data"
    }
   ],
   "source": [
    "#Rolling Statistics:\n",
    "#Calculate and plot rolling statistics (e.g., moving averages) to smooth out noise and identify trends more easily.\n",
    "# Rolling mean and standard deviation\n",
    "rolling_mean = diff_ts.rolling(window=3).mean()\n",
    "rolling_std = diff_ts.rolling(window=3).std()\n",
    "\n",
    "# Plotting\n",
    "plt.figure(figsize=(10, 6))\n",
    "plt.plot(diff_ts, label='Differenced Sales')\n",
    "plt.plot(rolling_mean, label='Rolling Mean', color='red')\n",
    "plt.plot(rolling_std, label='Rolling Std Dev', color='green')\n",
    "plt.title('Time Series with Differenced Data, Rolling Mean, and Rolling Std Dev')\n",
    "plt.xlabel('Month')\n",
    "plt.ylabel('Differenced Sales Amount')\n",
    "plt.legend()\n",
    "plt.show()"
   ]
  },
  {
   "cell_type": "code",
   "execution_count": 58,
   "metadata": {},
   "outputs": [
    {
     "data": {
      "image/png": "[encoded data removed]",
      "text/plain": [
       "<Figure size 1200x800 with 4 Axes>"
      ]
     },
     "metadata": {},
     "output_type": "display_data"
    }
   ],
   "source": [
    "#Decomposition:\n",
    "#Decompose the time series into trend, seasonality, and residual components.\n",
    "\n",
    "from statsmodels.tsa.seasonal import seasonal_decompose\n",
    "result = seasonal_decompose(diff_ts, model='additive', period=12)  # Adjust the period based on your data's seasonality\n",
    "\n",
    "# Plotting\n",
    "plt.figure(figsize=(12, 8))\n",
    "\n",
    "# Original time series\n",
    "plt.subplot(4, 1, 1)\n",
    "plt.plot(diff_ts, label='Original Time Series')\n",
    "plt.legend()\n",
    "\n",
    "# Trend component\n",
    "plt.subplot(4, 1, 2)\n",
    "plt.plot(result.trend, label='Trend')\n",
    "plt.legend()\n",
    "\n",
    "# Seasonal component\n",
    "plt.subplot(4, 1, 3)\n",
    "plt.plot(result.seasonal, label='Seasonal')\n",
    "plt.legend()\n",
    "\n",
    "# Residual component\n",
    "plt.subplot(4, 1, 4)\n",
    "plt.plot(result.resid, label='Residual')\n",
    "plt.legend()\n",
    "\n",
    "plt.tight_layout()\n",
    "plt.show()"
   ]
  },
  {
   "cell_type": "code",
   "execution_count": 59,
   "metadata": {},
   "outputs": [
    {
     "name": "stdout",
     "output_type": "stream",
     "text": [
      "Performing stepwise search to minimize aic\n"
     ]
    },
    {
     "name": "stderr",
     "output_type": "stream",
     "text": [
      "\n",
      "KeyboardInterrupt\n",
      "\n"
     ]
    }
   ],
   "source": [
    "from pmdarima import auto_arima\n",
    "stepwise_fit = auto_arima(diff_ts, trace=True, supress_warnings=True)"
   ]
  },
  {
   "cell_type": "code",
   "execution_count": null,
   "metadata": {},
   "outputs": [],
   "source": [
    "stepwise_fit.summary()"
   ]
  },
  {
   "cell_type": "code",
   "execution_count": null,
   "metadata": {},
   "outputs": [],
   "source": [
    "# Visualize the acf and pacf plots\n",
    "fig, ax = plt.subplots(2)\n",
    "plot_acf(ts, lags=55, ax=ax[0])\n",
    "plot_pacf(ts, lags=55, ax=ax[1])\n",
    "plt.show()"
   ]
  },
  {
   "cell_type": "code",
   "execution_count": 31,
   "metadata": {},
   "outputs": [
    {
     "data": {
      "image/png": "[encoded data removed]",
      "text/plain": [
       "<Figure size 640x480 with 1 Axes>"
      ]
     },
     "metadata": {},
     "output_type": "display_data"
    }
   ],
   "source": [
    "#Plot the ACF to identify the seasonality pattern.\n",
    "\n",
    "from statsmodels.graphics.tsaplots import plot_acf\n",
    "\n",
    "plot_acf(data['Amount'], lags=30)\n",
    "plt.show()"
   ]
  },
  {
   "cell_type": "code",
   "execution_count": 32,
   "metadata": {},
   "outputs": [
    {
     "data": {
      "image/png": "[encoded data removed]",
      "text/plain": [
       "<Figure size 640x480 with 1 Axes>"
      ]
     },
     "metadata": {},
     "output_type": "display_data"
    }
   ],
   "source": [
    "#Autocorrelation Analysis:\n",
    "#Partial Autocorrelation Function (PACF):\n",
    "#Plot the PACF to identify significant lags in the autocorrelation.\n",
    "\n",
    "from statsmodels.graphics.tsaplots import plot_pacf\n",
    "\n",
    "plot_pacf(data['Amount'], lags=30)\n",
    "plt.show()\n"
   ]
  },
  {
   "cell_type": "code",
   "execution_count": null,
   "metadata": {},
   "outputs": [],
   "source": [
    "# Check for missing data\n",
    "#print(df.isnull().sum())\n",
    "#After finding no missing data, we performed the Augment Dickey-Fuller (ADF) test to check for stationarity."
   ]
  },
  {
   "cell_type": "code",
   "execution_count": null,
   "metadata": {},
   "outputs": [
    {
     "name": "stdout",
     "output_type": "stream",
     "text": [
      "Results of Dickey-Fuller Test:\n"
     ]
    }
   ],
   "source": [
    "#Augmented Dickey-Fuller Test:\n",
    "#Conduct the Augmented Dickey-Fuller test to check for stationarity in the time series.\n",
    "# Define Augmented Dickey-Fuller (ADF) test function as per statsmodels\n",
    "\n"
   ]
  },
  {
   "cell_type": "code",
   "execution_count": null,
   "metadata": {},
   "outputs": [],
   "source": []
  }
 ],
 "metadata": {
  "kaggle": {
   "accelerator": "none",
   "dataSources": [
    {
     "datasetId": 2699295,
     "sourceId": 4642886,
     "sourceType": "datasetVersion"
    }
   ],
   "dockerImageVersionId": 30626,
   "isGpuEnabled": false,
   "isInternetEnabled": false,
   "language": "python",
   "sourceType": "notebook"
  },
  "kernelspec": {
   "display_name": "Python 3 (ipykernel)",
   "language": "python",
   "name": "python3"
  },
  "language_info": {
   "codemirror_mode": {
    "name": "ipython",
    "version": 3
   },
   "file_extension": ".py",
   "mimetype": "text/x-python",
   "name": "python",
   "nbconvert_exporter": "python",
   "pygments_lexer": "ipython3",
   "version": "3.11.5"
  }
 },
 "nbformat": 4,
 "nbformat_minor": 4
}
